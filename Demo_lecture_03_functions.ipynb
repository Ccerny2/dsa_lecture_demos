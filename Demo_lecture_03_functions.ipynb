{
  "nbformat": 4,
  "nbformat_minor": 0,
  "metadata": {
    "colab": {
      "provenance": [],
      "toc_visible": true
    },
    "kernelspec": {
      "name": "python3",
      "display_name": "Python 3"
    },
    "language_info": {
      "name": "python"
    }
  },
  "cells": [
    {
      "cell_type": "markdown",
      "source": [
        "------------------\n",
        "```markdown\n",
        "# Copyright © 2024 Meysam Goodarzi\n",
        "This notebook is licensed under CC BY-NC 4.0 with the following amandments:\n",
        "- Individuals may use, share, and adapt this material for non-commercial purposes with attribution.\n",
        "- Institutions/Companies must obtain written consent to use this material, except for nonprofits.\n",
        "- Commercial use is prohibited without permission.  \n",
        "Contact: analytica@meysam-goodarzi.com\n",
        "```\n",
        "------------------------------\n",
        "❗❗❗ **IMPORTANT**❗❗❗ **Create a copy of this notebook**\n",
        "\n",
        "In order to work with this Google Colab you need to create a copy of it. Please **DO NOT** provide your answers here. Instead, work on the copy version. To make a copy:\n",
        "\n",
        "**Click on: File -> save a copy in drive**\n",
        "\n",
        "Have you successfully created the copy? if yes, there must be a new tab opened in your browser. Now move to the copy and start from there!\n",
        "\n",
        "----------------------------------------------\n"
      ],
      "metadata": {
        "id": "TwkcaWdkKel3"
      }
    },
    {
      "cell_type": "markdown",
      "source": [
        "# Functions\n",
        "A function is a block of code that performs a specific task and can be called whenever needed."
      ],
      "metadata": {
        "id": "KNWxLcg4374L"
      }
    },
    {
      "cell_type": "markdown",
      "source": [
        "## Why Functions?\n",
        "We define functions for the following reasons:\n",
        "- Reusability: Write a function once and reuse it whenever you need it.\n",
        "- Modularity: Break your program into smaller, manageable, and organized parts.\n",
        "- Readability: Functions can make your code more readable and easier to understand."
      ],
      "metadata": {
        "id": "oLk__Nr_90vu"
      }
    },
    {
      "cell_type": "markdown",
      "source": [
        "## Defining Functions\n",
        "A function in Python is defined using the **def** keyword, followed by the **function name**, parentheses (), and a **colon \":\"**. The code block within every function starts with an **indentation** and the first statement may be an docstring to describe what the function does.\n",
        "\n",
        "```python\n",
        "def function_name(parameter_1, parameter_2):\n",
        "    \"\"\"docstring\"\"\"\n",
        "\n",
        "    # function body\n",
        "\n",
        "    return output\n",
        "```\n",
        "\n",
        "- Parameters (Arguments): Functions can accept parameters (also called arguments) **to pass data into them**.\n",
        " - Default Parameters: You can provide default values for parameters. If an argument is not provided during the function call, the default value is used.\n",
        "- Return Statement: Functions can return a value using the **return** statement. This allows you to store the result of the function call and use it later.\n",
        "\n",
        "**REMARK:** Variables defined inside a function are local to that function and cannot be accessed outside. However, functions can access variables defined in the global scope."
      ],
      "metadata": {
        "id": "fP4TzLLc97gJ"
      }
    },
    {
      "cell_type": "markdown",
      "source": [
        "### Example\n",
        "Let us write a simple function which greets a person by their name."
      ],
      "metadata": {
        "id": "rwWnaytK1qkt"
      }
    },
    {
      "cell_type": "code",
      "source": [
        "def greet(name):\n",
        "  \"\"\"It greets a person by their name.\n",
        "\n",
        "      Args:\n",
        "        name: The name of the person to be greeted.\n",
        "  \"\"\"\n",
        "  print(\"Hello\", name, \"!\")\n",
        "  print(f\"Hello {name}!\")\n",
        "\n",
        "greeted_name = \"John\"\n",
        "greet(greeted_name)\n",
        "greet(name=greeted_name)\n"
      ],
      "metadata": {
        "id": "x2_c2t671xsT"
      },
      "execution_count": null,
      "outputs": []
    },
    {
      "cell_type": "markdown",
      "source": [
        "### Exercise 1\n",
        "Write a function that greets a person by their name. Furthermore, the name of the greeter is printed after the greeting.\n",
        "\n",
        "**Reminder:** Do not forget the Docstring 😁."
      ],
      "metadata": {
        "id": "YzA0LjxKwwch"
      }
    },
    {
      "cell_type": "code",
      "source": [
        "# For the person to be greeted use the variable name 'greeted_name' and for the\n",
        "# greeter use 'greeter_name'\n",
        "\n",
        "def greet(greeted_name, greeter_name):\n",
        "    \"\"\" It greets a person by their name and mentions the greeter's name.\n",
        "\n",
        "        Args:\n",
        "          greeted_name: A string containing the name the person to be greeted.\n",
        "          greeter_name: A string containing the name of the greeter.\n",
        "    \"\"\"\n",
        "    print(f\"Hello {greeted_name}!\")\n",
        "    # Your code\n",
        "\n",
        "# Call the function here such that \"Aviran\" is greeted by \"Meysam\"\n",
        "greeted_name = \"Aviran\"\n",
        "greeter_name = \"Alex\"\n",
        "greet(greeted_name=greeted_name, greeter_name=greeter_name)"
      ],
      "metadata": {
        "id": "6gQTXqEr9y7A"
      },
      "execution_count": null,
      "outputs": []
    },
    {
      "cell_type": "markdown",
      "source": [
        "Rewrite the function such the input variables have a default value. Then call the function using the default values."
      ],
      "metadata": {
        "id": "7tk9lTxPF3pa"
      }
    },
    {
      "cell_type": "code",
      "source": [
        "def greet(greeted_name=\"Avi\", greeter_name=\"Mey\"):\n",
        "    \"\"\"It greets a person by their name.\n",
        "\n",
        "        Args:\n",
        "          greeted_name: A string containing the name the person to be greeted.\n",
        "          greeter_name: A string containing the name of the greeter.\n",
        "    \"\"\"\n",
        "    print(f\"Hello, {greeted_name}!\")\n",
        "    print(f\"Greetings from {greeter_name}!\")\n",
        "\n",
        "# Call the function here\n",
        "greet()"
      ],
      "metadata": {
        "id": "4fhSHob4GGzm"
      },
      "execution_count": null,
      "outputs": []
    },
    {
      "cell_type": "markdown",
      "source": [
        "### Exercise 2\n",
        "Write a function which greets a person by their name and tells them what their Grade Point Average (GPA) is? Furthermore, it returns the gpa as an output.\n",
        "\n",
        "**Hint:** define the name of the person and a list of their grades as input."
      ],
      "metadata": {
        "id": "XY_T4juGAzl0"
      }
    },
    {
      "cell_type": "code",
      "source": [
        "def greet_gpa(name: str, grades: list) -> float:\n",
        "    \"\"\"Greets a person and returns their GPA.\n",
        "\n",
        "        Args:\n",
        "          name: A string containing the name the person to be greeted.\n",
        "          grades: A list containing the grades of the person.\n",
        "\n",
        "        Returns:\n",
        "          The GPA of the person.\n",
        "    \"\"\"\n",
        "    gpa =  sum(grades)/len(grades)\n",
        "    print(f\"Hello {name}! Your GPA is {gpa}.\")\n",
        "\n",
        "    return gpa\n",
        "\n",
        "# Call the function here using proper variables.\n",
        "name = \"Ali\"\n",
        "grades = [1, 7, 8, 5.5, 4.5]\n",
        "gpa = greet_gpa(name=name, grades=grades)\n",
        "\n",
        "print(f\"GPA is {gpa}\")\n"
      ],
      "metadata": {
        "id": "RDFa7H4WBaGF"
      },
      "execution_count": null,
      "outputs": []
    },
    {
      "cell_type": "markdown",
      "source": [
        "### Exercise 3\n",
        "Write a function which greets a person by their name, tells them what their Grade Point Average (GPA) is, and declares whether the person has passed or not? Furthermore, it returns the gpa as an output.\n",
        "\n",
        "**Hint:** The passing threshold is $5$ points."
      ],
      "metadata": {
        "id": "SDdtQHImX54W"
      }
    },
    {
      "cell_type": "code",
      "source": [
        "def greet_pass(name: str, grades: list) -> float:\n",
        "    \"\"\"Greets a person and returns their GPA.\n",
        "\n",
        "        Args:\n",
        "          name: A string containing the name the person to be greeted.\n",
        "          grades: A list containing the grades of the person.\n",
        "\n",
        "        Returns:\n",
        "          The GPA of the person.\n",
        "    \"\"\"\n",
        "    gpa =  sum(grades)/len(grades)\n",
        "\n",
        "    if gpa > 5:\n",
        "        # Your code\n",
        "    else:\n",
        "        # Your code\n",
        "\n",
        "    print(f\"Hello {name}! Your GPA is {gpa}. You have {pass_status}.\")\n",
        "\n",
        "    return gpa\n",
        "\n",
        "# Call the function here using proper variables.\n",
        "name = \"Ali\"\n",
        "grades = [1, 7, 8, 5.5, 4.5]\n",
        "# Your code here\n"
      ],
      "metadata": {
        "id": "nSP-cb2Jg_3Z"
      },
      "execution_count": null,
      "outputs": []
    },
    {
      "cell_type": "markdown",
      "source": [
        "## Lambda Function\n",
        "\n",
        "Lambda functions are small, anonymous functions defined with the lambda keyword. Unlike normal functions defined using def, lambda functions are used for short, simple operations and can have any number of arguments but only one expression, which is evaluated and returned. Here is the general structure:\n",
        "\n",
        "```python\n",
        "lambda arguments: expression\n",
        "```"
      ],
      "metadata": {
        "id": "2zQacnw-K_YE"
      }
    },
    {
      "cell_type": "markdown",
      "source": [
        "### Example\n",
        "Let us now go through several examples to see how lambda function operates."
      ],
      "metadata": {
        "id": "ksN_g0hITTOw"
      }
    },
    {
      "cell_type": "code",
      "source": [
        "add = lambda x, y: x + y\n",
        "result = add(5, 3)\n",
        "print(result)"
      ],
      "metadata": {
        "id": "g0cC1uZvPtdU"
      },
      "execution_count": null,
      "outputs": []
    },
    {
      "cell_type": "code",
      "source": [
        "multiply = lambda a, b, c: a * b * c\n",
        "result = multiply(2, 3, 4)\n",
        "print(result)"
      ],
      "metadata": {
        "id": "oXJI07dCPxj0"
      },
      "execution_count": null,
      "outputs": []
    },
    {
      "cell_type": "markdown",
      "source": [
        "#### Exercise 4\n",
        "Write a lambda function that receives grades math, physics, and language and returns \"fail\" if the their average is below 10 and \"pass\" otherwise.\n",
        "\n",
        "**Note**: We use the french grading system, i.e., 20 is the best, 0 the worst, and 10 is the passing threshold."
      ],
      "metadata": {
        "id": "Pq60KJcjNF_P"
      }
    },
    {
      "cell_type": "code",
      "source": [
        "pass_fail = lambda math, physics, language: # Your code\n",
        "math, physics, language = 7, 11, 18\n",
        "print(pass_fail(math, physics, language))"
      ],
      "metadata": {
        "id": "0cGRET3MNlLd"
      },
      "execution_count": null,
      "outputs": []
    },
    {
      "cell_type": "markdown",
      "source": [
        "### Exercise 5\n",
        "Given a list of tuples, where each tuple contains two elements: a string and a number. Use a lambda function to sort the list in ascending order based on the reverse of the second element (the number) in each tuple.\n",
        "\n",
        "**Hint**: Check the [sorted()](https://docs.python.org/3/library/functions.html#sorted) function description."
      ],
      "metadata": {
        "id": "EaIzu7WdjThI"
      }
    },
    {
      "cell_type": "code",
      "source": [
        "data = [(\"apple\", 3), (\"banana\", 1), (\"cherry\", 2), (\"date\", 4)]\n",
        "\n",
        "sorted_data = sorted(\n",
        "    data,\n",
        "    key= # Your code\n",
        "    )\n",
        "print(sorted_data)"
      ],
      "metadata": {
        "id": "w3_h50XKjdbl"
      },
      "execution_count": null,
      "outputs": []
    },
    {
      "cell_type": "markdown",
      "source": [
        "## \\*args and **kwargs\n",
        "`*args` allows a function to accept any number of positional arguments.\n",
        "These arguments are passed as a **tuple**, and you can iterate over them or access them by index. On the other hand, `**kwargs` allows a function to accept any number of keyword arguments, which are passed as a **dictionary**, where the keys are the argument names, and the values are the argument values."
      ],
      "metadata": {
        "id": "q98snzkfRiiY"
      }
    },
    {
      "cell_type": "markdown",
      "source": [
        "### Example\n",
        "We explore some examples to highlight the properties of `*args` and `kwargs`."
      ],
      "metadata": {
        "id": "KgBg1WBzTaaa"
      }
    },
    {
      "cell_type": "code",
      "source": [
        "def print_names(*args):\n",
        "    \"\"\"Prints a list of names.\n",
        "\n",
        "        Args:\n",
        "          *args: A tuple of names.\n",
        "    \"\"\"\n",
        "    for name in args:\n",
        "        print(name)\n",
        "\n",
        "print_names(\"Alice\", \"Bob\", \"Charlie\")"
      ],
      "metadata": {
        "id": "SHbBYqGQT8qV"
      },
      "execution_count": null,
      "outputs": []
    },
    {
      "cell_type": "code",
      "source": [
        "def print_info(**kwargs):\n",
        "    \"\"\"Prints information about a person.\n",
        "\n",
        "        Args:\n",
        "          **kwargs: A dictionary containing the person's information.\n",
        "    \"\"\"\n",
        "    for key, value in kwargs.items():\n",
        "        print(f\"{key}: {value}\")\n",
        "\n",
        "print_info(name=\"Alice\", age=30, city=\"New York\")"
      ],
      "metadata": {
        "id": "YMx9NrkTT377"
      },
      "execution_count": null,
      "outputs": []
    },
    {
      "cell_type": "markdown",
      "source": [
        "**Questions**: What if we use both?"
      ],
      "metadata": {
        "id": "ydkJ7nsOUFfo"
      }
    },
    {
      "cell_type": "code",
      "source": [
        "def combine_info(*args, **kwargs):\n",
        "    \"\"\"Combines positional and keyword arguments.\n",
        "\n",
        "        Args:\n",
        "          *args: A tuple of positional arguments.\n",
        "          **kwargs: A dictionary of keyword arguments.\n",
        "    \"\"\"\n",
        "    for arg in args:\n",
        "        print(arg)\n",
        "\n",
        "    for key, value in kwargs.items():\n",
        "        print(f\"{key}: {value}\")\n",
        "\n",
        "combine_info(\"Python\", \"Programming\", name=\"Alice\", age=30)"
      ],
      "metadata": {
        "id": "Igg9tozKUBiQ"
      },
      "execution_count": null,
      "outputs": []
    },
    {
      "cell_type": "markdown",
      "source": [
        "### Exercise 6\n",
        "Create a function sum_all that takes an arbitrary number of arguments (using *args) and returns the sum of all the arguments provided."
      ],
      "metadata": {
        "id": "wdAqJnEbib_p"
      }
    },
    {
      "cell_type": "code",
      "source": [
        "def sum_all(*args):\n",
        "  \"\"\" Sums all the input arguments.\n",
        "\n",
        "      Args:\n",
        "        *args: A tuple of input arguments.\n",
        "\n",
        "      Returns:\n",
        "        The sum of all the input arguments.\n",
        "  \"\"\"\n",
        "  return # Your code\n",
        "\n",
        "# Example usage:\n",
        "print(sum_all(1, 2, 3, 4))\n",
        "print(sum_all(10, 20, 30))\n"
      ],
      "metadata": {
        "id": "91mN5fViioBH"
      },
      "execution_count": null,
      "outputs": []
    },
    {
      "cell_type": "markdown",
      "source": [
        "## More Exercises"
      ],
      "metadata": {
        "id": "7qf2lebVK27z"
      }
    },
    {
      "cell_type": "markdown",
      "source": [
        "### Exercise 7\n",
        "\n",
        "Create a Python program that converts temperatures between Fahrenheit and Celsius.\n",
        "\n",
        "Here is the description what you need to do.\n",
        "\n",
        "   - Define a function named `convert_temperature` that takes two parameters: `temperature` and `unit`.\n",
        "      - `temperature` is a numeric value, and `unit` is a string that can either be `C` for Celsius or `F` for Fahrenheit.\n",
        "   - The function should return the converted temperature.\n",
        "      - If `unit` is `C`, convert the temperature to Fahrenheit. If `unit` is `\"F\"`, convert it to Celsius.\n",
        "   - Use the formulas: `C = (F - 32) * 5/9` and `F = C * 9/5 + 32`."
      ],
      "metadata": {
        "id": "qb-3cz9XJu2D"
      }
    },
    {
      "cell_type": "code",
      "source": [
        "def celsius_to_fahrenheit(celsius):\n",
        "    \"\"\"Converts Celsius to Fahrenheit.\n",
        "\n",
        "        Args:\n",
        "          celsius: A numeric value representing the temperature in Celsius.\n",
        "\n",
        "        Returns:\n",
        "          The converted temperature in Fahrenheit.\n",
        "    \"\"\"\n",
        "    # Your code here\n",
        "    return farenheit\n",
        "\n",
        "# Example usage:\n",
        "print(celsius_to_fahrenheit(0))    # Output: 32.0\n",
        "print(celsius_to_fahrenheit(25))   # Output: 77.0\n"
      ],
      "metadata": {
        "id": "m4YvBTwINuXj"
      },
      "execution_count": null,
      "outputs": []
    },
    {
      "cell_type": "markdown",
      "source": [
        "Is there any way to tell your program to perform the conversion the precision of only two decimals?\n",
        "\n",
        "**Hint**: Figure out how to round numbers given the precision."
      ],
      "metadata": {
        "id": "UG_UUIr2Nu5t"
      }
    },
    {
      "cell_type": "markdown",
      "source": [
        "### Exercise 8\n",
        "Write a function factorial that computes the factorial of a given non-negative integer.\n",
        "\n",
        "Factorial formula:\n",
        "$$n! = n\\times(n-1)\\times\\cdots\\times1$$"
      ],
      "metadata": {
        "id": "In1dyG-khH8d"
      }
    },
    {
      "cell_type": "code",
      "source": [
        "def factorial(n):\n",
        "    \"\"\"Computes the factorial of a given non-negative integer.\n",
        "\n",
        "        Args:\n",
        "          n: A non-negative integer.\n",
        "\n",
        "        Returns:\n",
        "          The factorial of n.\n",
        "    \"\"\"\n",
        "    result = 1\n",
        "    for i in range(1, n + 1):\n",
        "        # Your code\n",
        "    return result\n",
        "\n",
        "print(factorial(5))\n",
        "print(factorial(0))\n"
      ],
      "metadata": {
        "id": "ggCXbIUmhbGL"
      },
      "execution_count": null,
      "outputs": []
    },
    {
      "cell_type": "markdown",
      "source": [
        "Now think of how to do it in a **recrusive** manner."
      ],
      "metadata": {
        "id": "OPiJAkuBYaqF"
      }
    },
    {
      "cell_type": "markdown",
      "source": [
        "### Exercise 9\n",
        "Create a function *reverse_string* that takes a string and returns it reversed."
      ],
      "metadata": {
        "id": "FQO3wElrh46h"
      }
    },
    {
      "cell_type": "code",
      "source": [
        "def reverse_string(s):\n",
        "    \"\"\"Reverses a given string.\n",
        "\n",
        "        Args:\n",
        "          s: A string to be reversed.\n",
        "\n",
        "        Returns:\n",
        "          The reversed string.\n",
        "    \"\"\"\n",
        "    # Your code here\n",
        "    return s_reversed\n",
        "\n",
        "# Example usage:\n",
        "print(reverse_string(\"hello\"))\n",
        "print(reverse_string(\"Python\"))\n"
      ],
      "metadata": {
        "id": "L0DFeP2Ah30X"
      },
      "execution_count": null,
      "outputs": []
    },
    {
      "cell_type": "markdown",
      "source": [
        "**Congratulations! You have finished the Notebook! Great Job!**\n",
        "🤗🙌👍👏💪\n",
        "<!--\n",
        "# Copyright © 2024 Meysam Goodarzi\n",
        "This notebook is licensed under CC BY-NC 4.0 with the following amandments:\n",
        "- Individuals may use, share, and adapt this material for non-commercial purposes with attribution.\n",
        "- Institutions/Companies must obtain written consent to use this material, except for nonprofits.\n",
        "- Commercial use is prohibited without permission.  \n",
        "Contact: analytica@meysam-goodarzi.com.\n",
        "-->"
      ],
      "metadata": {
        "id": "nrBw5WXAAcC-"
      }
    }
  ]
}