{
  "nbformat": 4,
  "nbformat_minor": 0,
  "metadata": {
    "colab": {
      "provenance": []
    },
    "kernelspec": {
      "name": "python3",
      "display_name": "Python 3"
    },
    "language_info": {
      "name": "python"
    }
  },
  "cells": [
    {
      "cell_type": "markdown",
      "source": [
        "------------------\n",
        "```markdown\n",
        "# Copyright © 2024 Meysam Goodarzi\n",
        "This notebook is licensed under CC BY-NC 4.0 with the following amandments:\n",
        "- Individuals may use, share, and adapt this material for non-commercial purposes with attribution.\n",
        "- Institutions/Companies must obtain written consent to use this material, except for nonprofits.\n",
        "- Commercial use is prohibited without permission.  \n",
        "Contact: analytica@meysam-goodarzi.com\n",
        "```\n",
        "------------------------------\n",
        "❗❗❗ **IMPORTANT**❗❗❗ **Create a copy of this notebook**\n",
        "\n",
        "In order to work with this Google Colab you need to create a copy of it. Please **DO NOT** provide your answers here. Instead, work on the copy version. To make a copy:\n",
        "\n",
        "**Click on: File -> save a copy in drive**\n",
        "\n",
        "Have you successfully created the copy? if yes, there must be a new tab opened in your browser. Now move to the copy and start from there!\n",
        "\n",
        "----------------------------------------------\n"
      ],
      "metadata": {
        "id": "QbsLH3-RJSk5"
      }
    },
    {
      "cell_type": "markdown",
      "source": [
        "# Lists, Dictionaries, Tuples, Sets and Loops\n",
        "This notebook is dedicated to Lists, Dictionaries, Tuples, Sets and Loops. In particular, after explaining all the concepts, we will combine three of them to see how they are used in practice.\n"
      ],
      "metadata": {
        "id": "xBaP4Nfj-KpI"
      }
    },
    {
      "cell_type": "markdown",
      "source": [
        "## Lists\n",
        "A list in Python is a collection of items that are ordered and changeable. You can create a list by placing all the items (elements) inside square brackets `[]`, **separated by commas**. It can have items of different types and allow duplicate elements, all indexed, starting from 0 (**NOT** 1)."
      ],
      "metadata": {
        "id": "KJ7KmO9AL4uf"
      }
    },
    {
      "cell_type": "markdown",
      "source": [
        "### List Methods\n",
        "Lists in Python come with several useful methods that allow you to modify the list. Here are some commonly used list methods with examples:\n",
        "\n",
        "- `append()`: Adds an element to the end of the list.\n",
        "- `extend()`: Adds elements from another list or any iterable to the end.\n",
        "- `insert()`: Inserts an item at a specified position.\n",
        "- `remove()`: Removes the first item with the specified value.\n",
        "- `pop()`: Removes the element at a specified position or the last item if the index is not specified.\n",
        "- `index()`: Returns the position of the first occurrence of the specified value.\n",
        "- `count()`: Returns the number of times a value appears in the list.\n",
        "- `sort()`: Sorts the list in ascending order.\n",
        "- `reverse()`: Reverses the order of the list.\n"
      ],
      "metadata": {
        "id": "3Ren2Ge9JhY5"
      }
    },
    {
      "cell_type": "markdown",
      "source": [
        "#### Example\n",
        "Create a list of your favorite fruits. Add another fruit to the list after its creation. Then insert another fruit as the third element of the list."
      ],
      "metadata": {
        "id": "V0nJ21mHZMyP"
      }
    },
    {
      "cell_type": "code",
      "source": [
        "# Example of creating a list\n",
        "fruits = [\"apple\", \"banana\", \"cherry\"]\n",
        "print(fruits)\n",
        "\n",
        "fruits.append(\"kiwi\")\n",
        "print(fruits)\n",
        "\n",
        "fruits.insert(2, \"orange\")\n",
        "print(fruits)"
      ],
      "metadata": {
        "id": "PGPleoV8Bq0-"
      },
      "execution_count": null,
      "outputs": []
    },
    {
      "cell_type": "markdown",
      "source": [
        "#### Exercise 1\n",
        "Create a list of 3 favorite movies. Explore at least 5 methods mentioned above using the list you have created, i.e.:\n",
        "\n",
        "+ Change the value of the third item to \"interstellar\".\n",
        "+ Print the first three items in the list.\n",
        "+ remove \"interstellar\" from the list.\n",
        "+ Reverse the order of items in the list.\n",
        "+ Print the last two items in the list."
      ],
      "metadata": {
        "id": "JuMoLyjQMXTy"
      }
    },
    {
      "cell_type": "code",
      "source": [
        "# Your code"
      ],
      "metadata": {
        "id": "CYLuUdzLOwCH"
      },
      "execution_count": null,
      "outputs": []
    },
    {
      "cell_type": "markdown",
      "source": [
        "**Question**: What was your observation when running the **sort()** method?"
      ],
      "metadata": {
        "id": "ZySqAz-_QUk-"
      }
    },
    {
      "cell_type": "markdown",
      "source": [
        "## Dictionaries\n",
        "A dictionary in Python is a collection of key-value pairs. It is unordered, changeable, and **does not** allow duplicate keys. The syntax for a dictionary is `{key: value}`.\n",
        "\n",
        "**IMPORTANT**: Only the following datatypes are allowed as keys:\n",
        "* Integers (int)\n",
        "* Floating-point numbers (float)\n",
        "* Strings (str)\n",
        "* Tuples (as long as the tuple only contains hashable elements)\n",
        "* Booleans (True, False)\n",
        "* NoneType (None)\n",
        "\n",
        "**NOT ALLOWED**:\n",
        "* Lists\n",
        "* Dictionaries\n",
        "* Sets"
      ],
      "metadata": {
        "id": "RqGaEY6EGVVb"
      }
    },
    {
      "cell_type": "code",
      "source": [
        "# Using different hashable types as dictionary keys\n",
        "my_dict = {\n",
        "    1: \"Integer as a key\",\n",
        "    3.14: \"Float as a key\",\n",
        "    \"name\": \"String as a key\",\n",
        "    (1, 2, 3): \"Tuple as a key\",\n",
        "    True: \"Boolean as a key\",\n",
        "    None: \"None as a key\"\n",
        "}\n",
        "\n",
        "print(my_dict)\n"
      ],
      "metadata": {
        "id": "lSHh9FHiXb7q"
      },
      "execution_count": null,
      "outputs": []
    },
    {
      "cell_type": "markdown",
      "source": [
        "### Dictionary Methods\n",
        "Here are some commonly used dictionary methods with examples:\n",
        "+ `get(key, default)`: Returns the value for a key if it exists, otherwise returns the default value.\n",
        "+ `keys()`: Returns a view object containing all the keys in the dictionary.\n",
        "+ `values()`: Returns a view object containing all the values in the dictionary.\n",
        "+ `items()`: Returns a view object with all key-value pairs as tuples.\n",
        "+ `update(dict)`: Updates the dictionary with key-value pairs from another dictionary.\n",
        "+ `pop(key)`: Removes the specified key and returns its value."
      ],
      "metadata": {
        "id": "cnj88K4XSlKr"
      }
    },
    {
      "cell_type": "markdown",
      "source": [
        "#### Example\n",
        "Create a dictionary containing the info about, name, age, and city of a person. First get the value for the key \"name\". Then, view the keys, the values, and the items."
      ],
      "metadata": {
        "id": "5K0aCWdhGdNT"
      }
    },
    {
      "cell_type": "code",
      "source": [
        "# Example of using dictionary methods\n",
        "person = {\n",
        "    \"name\": \"Wael\",\n",
        "    \"age\": 25,\n",
        "    \"city\": \"Aleppo\"\n",
        "}\n",
        "\n",
        "print(person.get(\"name\"))\n",
        "print(person.keys())\n",
        "print(person.values())\n",
        "print(person.items())\n"
      ],
      "metadata": {
        "id": "WHK55CdCGf0g"
      },
      "execution_count": null,
      "outputs": []
    },
    {
      "cell_type": "markdown",
      "source": [
        "#### Exercise 2\n",
        "In the above dictionary, update the age to 55 and remove the \"city\"."
      ],
      "metadata": {
        "id": "LZ9LvnPCDtvm"
      }
    },
    {
      "cell_type": "code",
      "source": [
        "# Your code"
      ],
      "metadata": {
        "id": "sqvAMpMUGqWY"
      },
      "execution_count": null,
      "outputs": []
    },
    {
      "cell_type": "markdown",
      "source": [
        "## Tuples\n",
        "\n",
        "Tuples are **immutable**, **ordered** collections of items in Python. They are similar to lists, but the key difference is that tuples cannot be changed, i.e., **they are immutable**. To create a tuple, we use parentheses `()` instead of square brackets `[]`.\n",
        "\n",
        "**REMARK**: Tuples can hold elements of any data type, e.g., integers, strings, lists, etc., and they can have heterogeneous data types within the same tuple."
      ],
      "metadata": {
        "id": "8TFr9-V-vvTp"
      }
    },
    {
      "cell_type": "markdown",
      "source": [
        "### Tuple Methods\n",
        "Here are some commonly used dictionary methods with examples:\n",
        "\n",
        "* `count()`: Returns the number of times a specified value appears in the tuple.\n",
        "* `index()`: Returns the index of the first occurrence of the specified value."
      ],
      "metadata": {
        "id": "Ye20qwINxWal"
      }
    },
    {
      "cell_type": "markdown",
      "source": [
        "#### Example\n",
        "Here is an example of a tuple"
      ],
      "metadata": {
        "id": "UXD1QF6LwqU7"
      }
    },
    {
      "cell_type": "code",
      "source": [
        "# Creating a tuple\n",
        "my_tuple = (10, 20, 'Python', [1, 2, 3], (4, 5))\n",
        "\n",
        "print(\"Tuple:\", my_tuple)"
      ],
      "metadata": {
        "id": "0IOHNGEdwwAE"
      },
      "execution_count": null,
      "outputs": []
    },
    {
      "cell_type": "markdown",
      "source": [
        "Let us access the elements and perform slicing."
      ],
      "metadata": {
        "id": "tFoyx-inw1jA"
      }
    },
    {
      "cell_type": "code",
      "source": [
        "# Access elements\n",
        "print(\"First element:\", my_tuple[0])\n",
        "print(\"Third element:\", my_tuple[2])\n",
        "print(\"Last element:\", my_tuple[-1])\n",
        "\n",
        "# Slicing\n",
        "print(my_tuple[1:4])"
      ],
      "metadata": {
        "id": "1JPPq6Mvw5Zm"
      },
      "execution_count": null,
      "outputs": []
    },
    {
      "cell_type": "markdown",
      "source": [
        "**Question**: What does it mean **to be immutable**?\n",
        "\n",
        "<!--\n",
        "# Copyright © 2024 Meysam Goodarzi\n",
        "This notebook is licensed under CC BY-NC 4.0 with the following amandments:\n",
        "- Individuals may use, share, and adapt this material for non-commercial purposes with attribution.\n",
        "- Institutions/Companies must obtain written consent to use this material, except for nonprofits.\n",
        "- Commercial use is prohibited without permission.  \n",
        "Contact: analytica@meysam-goodarzi.com.\n",
        "-->"
      ],
      "metadata": {
        "id": "zBdY-Da9xLYA"
      }
    },
    {
      "cell_type": "code",
      "source": [
        "my_tuple[0] = 100"
      ],
      "metadata": {
        "id": "8tzmy57LxSQi"
      },
      "execution_count": null,
      "outputs": []
    },
    {
      "cell_type": "markdown",
      "source": [
        "**Challenge**: Find out what **unpacking** means.\n",
        "\n",
        "Then unpack the tuple (\"Mary\", \"27\", \"Engineer\") in three variables, name, age, profession."
      ],
      "metadata": {
        "id": "v23VpBg8ymaC"
      }
    },
    {
      "cell_type": "code",
      "source": [
        "# Your code"
      ],
      "metadata": {
        "id": "Zn08CUUbysoJ"
      },
      "execution_count": null,
      "outputs": []
    },
    {
      "cell_type": "markdown",
      "source": [
        "#### Exercise 3\n",
        "Create a tuple student_info that contains the following data:\n",
        "\n",
        "* Name: \"John Doe\"\n",
        "* Age: 22\n",
        "* Major: \"Computer Science\"\n",
        "* GPA: 3.8\n",
        "\n",
        "Perform the following tasks:\n",
        "* Print the name and major of the student.\n",
        "* Print the GPA using negative indexing.\n",
        "* Unpack the tuple into individual variables and print them."
      ],
      "metadata": {
        "id": "VVCRepZRyDRb"
      }
    },
    {
      "cell_type": "code",
      "source": [
        "# Your code"
      ],
      "metadata": {
        "id": "DqerL2_2yOlT"
      },
      "execution_count": null,
      "outputs": []
    },
    {
      "cell_type": "markdown",
      "source": [
        "## Sets\n",
        "A set is an **unordered** collection of **unique** elements. This means that no element can appear more than once in a set, i.e., **no duplicates**.\n",
        "They are **mutable**, meaning you can add or remove elements from them.\n",
        "To create a set, we can simply use curly braces `{}` or the `set()` function."
      ],
      "metadata": {
        "id": "WVyHakBdFcTH"
      }
    },
    {
      "cell_type": "markdown",
      "source": [
        "### Set Methods\n",
        "Here are some commonly used methods for Sets:\n",
        "\n",
        "* `add()`: Adds an element to the set\n",
        "* `remove()`: Removes a specified element from the set. Raises an error if the element is not found.\n",
        "* `discard()`: Removes a specified element from the set, but does not raise an error if the element is not found.\n",
        "* `union()`: Returns a new set with all elements from both sets.\n",
        "* `intersection()`: Returns a set that contains only elements found in both sets.\n",
        "* `difference()`: Returns a set with elements in the first set but not in the second.\n",
        "* `clear()`: Removes all elements from the set."
      ],
      "metadata": {
        "id": "mwRK5IBqF5d_"
      }
    },
    {
      "cell_type": "markdown",
      "source": [
        "#### Example\n",
        "Let us explore the above mentioned methods on a set of people's names."
      ],
      "metadata": {
        "id": "W-PknO1yGc39"
      }
    },
    {
      "cell_type": "code",
      "source": [
        "names = {\"Ali\", \"Mary\", \"Aycha\", \"John\"}\n",
        "\n",
        "names.add(\"Alex\")\n",
        "print(fruits)\n",
        "\n",
        "names.remove(\"John\")\n",
        "print(fruits)\n",
        "\n",
        "names.discard(\"Hani\")\n",
        "print(fruits)\n",
        "\n",
        "names_1 = {\"Mary\", \"Aycha\", \"John\"}\n",
        "names_2 =  {\"Ali\", \"Mary\", \"Aycha\"}\n",
        "union_set = names_1.union(set2)\n",
        "print(union_set)\n",
        "\n",
        "intersection_set = names_1.intersection(names_2)\n",
        "print(intersection_set)\n",
        "\n",
        "difference_set = names_1.difference(names_2)\n",
        "print(difference_set)\n",
        "\n",
        "names_1.clear()\n",
        "print(fruits)"
      ],
      "metadata": {
        "id": "BVMkrIhvGpvu"
      },
      "execution_count": null,
      "outputs": []
    },
    {
      "cell_type": "markdown",
      "source": [
        "#### Exercise 4\n",
        "\n",
        "You conducted a survey about which programming languages people know. You have two sets:\n",
        "\n",
        "+ Set A: People who know Python\n",
        "+ Set B: People who know Java\n",
        "Write a Python program to:\n",
        "\n",
        "1. Find people who know both Python and Java.\n",
        "1. Find people who know Python but not Java.\n",
        "1. Find people who know Java but not Python.\n",
        "1. Find people who know either Python or Java, but not both."
      ],
      "metadata": {
        "id": "YHBfiIZ3Hfua"
      }
    },
    {
      "cell_type": "code",
      "source": [
        "# Your code"
      ],
      "metadata": {
        "id": "2eWDT-71ICHn"
      },
      "execution_count": null,
      "outputs": []
    },
    {
      "cell_type": "markdown",
      "source": [
        "**Congratulations! You have finished the Notebook! Great Job!**\n",
        "🤗🙌👍👏💪\n",
        "<!--\n",
        "# Copyright © 2024 Meysam Goodarzi\n",
        "This notebook is licensed under CC BY-NC 4.0 with the following amandments:\n",
        "- Individuals may use, share, and adapt this material for non-commercial purposes with attribution.\n",
        "- Institutions/Companies must obtain written consent to use this material, except for nonprofits.\n",
        "- Commercial use is prohibited without permission.  \n",
        "Contact: analytica@meysam-goodarzi.com.\n",
        "-->"
      ],
      "metadata": {
        "id": "kgvOP4bi7CuJ"
      }
    }
  ]
}