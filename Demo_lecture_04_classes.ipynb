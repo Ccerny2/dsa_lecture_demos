{
  "cells": [
    {
      "cell_type": "markdown",
      "metadata": {
        "id": "TwkcaWdkKel3"
      },
      "source": [
        "------------------\n",
        "```markdown\n",
        "# Copyright © 2024 Meysam Goodarzi\n",
        "This notebook is licensed under CC BY-NC 4.0 with the following amandments:\n",
        "- Individuals may use, share, and adapt this material for non-commercial purposes with attribution.\n",
        "- Institutions/Companies must obtain written consent to use this material, except for nonprofits.\n",
        "- Commercial use is prohibited without permission.  \n",
        "Contact: analytica@meysam-goodarzi.com\n",
        "```\n",
        "------------------------------\n",
        "❗❗❗ **IMPORTANT**❗❗❗ **Create a copy of this notebook**\n",
        "\n",
        "In order to work with this Google Colab you need to create a copy of it. Please **DO NOT** provide your answers here. Instead, work on the copy version. To make a copy:\n",
        "\n",
        "**Click on: File -> save a copy in drive**\n",
        "\n",
        "Have you successfully created the copy? if yes, there must be a new tab opened in your browser. Now move to the copy and start from there!\n",
        "\n",
        "----------------------------------------------\n"
      ]
    },
    {
      "cell_type": "code",
      "execution_count": null,
      "metadata": {
        "id": "IQSGKYWiyLcR"
      },
      "outputs": [],
      "source": [
        "import numpy as np\n",
        "import matplotlib.pyplot as plt\n",
        "import random\n",
        "import time\n",
        "from IPython.display import clear_output\n",
        "import pandas as pd"
      ]
    },
    {
      "cell_type": "markdown",
      "metadata": {
        "id": "KNWxLcg4374L"
      },
      "source": [
        "# Object-Oriented Programming (OOP)\n",
        "Object-Oriented Programming (OOP) is a programming paradigm that organizes code around calsses and objects. A class is a bluprint from which objects can be constructed. Each object is an instance of a class and represents a real-world entity with attributes (data) and methods (functions). OOP promotes reusability, modularity, and readability."
      ]
    },
    {
      "cell_type": "markdown",
      "metadata": {
        "id": "oLk__Nr_90vu"
      },
      "source": [
        "## Class\n",
        "Let us directly start with defining a class called **Student** and explain what each section is:"
      ]
    },
    {
      "cell_type": "code",
      "execution_count": null,
      "metadata": {
        "id": "b3eTYDkfx3iP"
      },
      "outputs": [],
      "source": [
        "class Student:\n",
        "    def __init__(self, name, age):\n",
        "        self.name = name\n",
        "        self.age = age\n",
        "\n",
        "    def greet(self):\n",
        "        print(f\"Hello, my name is {self.name} and I am {self.age} years old.\")\n",
        "\n",
        "# Creating objects\n",
        "student1 = Student(\"Alice\", 20)\n",
        "student2 = Student(\"Bob\", 22)\n",
        "\n",
        "student1.greet()\n",
        "student2.greet()\n"
      ]
    },
    {
      "cell_type": "markdown",
      "metadata": {
        "id": "bNXPSbyqx_Fm"
      },
      "source": [
        "1. The `Class Student` defines the class.\n",
        "1. The first method, i.e.,\n",
        "```python\n",
        "def __init__(self, name, age):\n",
        "    self.name = name\n",
        "    self.age = age\n",
        "```\n",
        "is called **constructor** and creates the object based on the input parameters, i.e., the attributes.\n",
        "1. The second method, i.e.,\n",
        "```python\n",
        "def greet(self):\n",
        "        print(f\"Hello, my name is {self.name} and I am {self.age} years old.\")\n",
        "```\n",
        "is a normal method defined in a class, here only to greet the student.\n",
        "\n",
        "**NOTE**: In order to refer to the parameters passed into the class and constructed via the constractor method, we always use **self.the_attribute**"
      ]
    },
    {
      "cell_type": "markdown",
      "metadata": {
        "id": "EEMQqssa0Ca4"
      },
      "source": [
        "#### Exercise 2\n",
        "Create a class called `Book` with:\n",
        "* Attributes: `title` and `author`.\n",
        "* Method: `info()` that prints the book details.\n",
        "Create two Book objects and call the `info()` method."
      ]
    },
    {
      "cell_type": "code",
      "execution_count": null,
      "metadata": {
        "id": "ZyOKRgqq3FbP"
      },
      "outputs": [],
      "source": [
        "class Book:\n",
        "    def __init__(self, title, author):\n",
        "        self.title = title\n",
        "        self.author = author\n",
        "\n",
        "    def info(self):\n",
        "        print(f\"'{self.title}' by {self.author}\")\n",
        "\n",
        "book1 = Book(\"1984\", \"George Orwell\")\n",
        "book2 = Book(\"To Kill a Mockingbird\", \"Harper Lee\")\n",
        "\n",
        "book1.info()\n",
        "book2.info()"
      ]
    },
    {
      "cell_type": "markdown",
      "metadata": {
        "id": "fP4TzLLc97gJ"
      },
      "source": [
        "## Inheritance\n",
        "Inheritance allows a class (child) to inherit attributes and methods from another class (parent). In particular, it enables reusability of code."
      ]
    },
    {
      "cell_type": "markdown",
      "metadata": {
        "id": "MnmryBDbxwyC"
      },
      "source": [
        "### Example\n",
        "Let us define a class called `Animal`."
      ]
    },
    {
      "cell_type": "code",
      "execution_count": null,
      "metadata": {
        "id": "Z6f0CrgO4WjK"
      },
      "outputs": [],
      "source": [
        "class Animal:\n",
        "    def __init__(self, species):\n",
        "        self.species = species\n",
        "\n",
        "    def sound(self):\n",
        "        print(\"This animal makes a sound.\")"
      ]
    },
    {
      "cell_type": "markdown",
      "metadata": {
        "id": "QRg5Q_bq2Qk6"
      },
      "source": [
        "Now we can define another class called `Dog` which inherits the methods and attributes of the `Animal` class."
      ]
    },
    {
      "cell_type": "code",
      "execution_count": null,
      "metadata": {
        "id": "UReNxAZt2ecR"
      },
      "outputs": [],
      "source": [
        "class Dog(Animal):\n",
        "    def __init__(self, name, breed):\n",
        "        super().__init__(\"Dog\")\n",
        "        self.name = name\n",
        "        self.breed = breed\n",
        "\n",
        "    def sound(self):\n",
        "        print(f\"{self.name}, the {self.breed}, barks.\")"
      ]
    },
    {
      "cell_type": "markdown",
      "metadata": {
        "id": "hHle_6ci2ne1"
      },
      "source": [
        "Let us try it now"
      ]
    },
    {
      "cell_type": "code",
      "execution_count": null,
      "metadata": {
        "id": "rsvbKJAH2pUb"
      },
      "outputs": [],
      "source": [
        "# Inheritance example\n",
        "dog = Dog(\"Buddy\", \"Golden Retriever\")\n",
        "dog.sound()"
      ]
    },
    {
      "cell_type": "markdown",
      "metadata": {
        "id": "YzA0LjxKwwch"
      },
      "source": [
        "## Exercise 2\n",
        "Follow the example above and write a class called `Cat`. Define methods which, in your opinion, make sense."
      ]
    },
    {
      "cell_type": "code",
      "execution_count": null,
      "metadata": {
        "id": "6gQTXqEr9y7A"
      },
      "outputs": [],
      "source": [
        "# Your code"
      ]
    },
    {
      "cell_type": "markdown",
      "metadata": {
        "id": "XY_T4juGAzl0"
      },
      "source": [
        "## Encapsulation\n",
        "Encapsulation is the practice of restricting access to certain attributes or methods using private members. Private members start with an underscore `_`."
      ]
    },
    {
      "cell_type": "markdown",
      "metadata": {
        "id": "HOkt-jUS5Klw"
      },
      "source": [
        "#### Example\n",
        "Let us create a class called `BankAccount` and define methods to update the account balance."
      ]
    },
    {
      "cell_type": "code",
      "execution_count": null,
      "metadata": {
        "colab": {
          "base_uri": "https://localhost:8080/"
        },
        "id": "RDFa7H4WBaGF",
        "outputId": "db50deb6-c002-4423-8f58-5bf05a462d94"
      },
      "outputs": [
        {
          "name": "stdout",
          "output_type": "stream",
          "text": [
            "Deposited 500. New balance: 1500\n"
          ]
        }
      ],
      "source": [
        "class BankAccount:\n",
        "    def __init__(self, owner, balance):\n",
        "        self.owner = owner\n",
        "        self._balance = balance  # Private attribute\n",
        "\n",
        "    def deposit(self, amount):\n",
        "        self._balance += amount\n",
        "        print(f\"Deposited {amount}. New balance: {self.__balance}\")\n",
        "\n",
        "    def _update_balance(self, amount):  # Private method\n",
        "        self._balance += amount\n",
        "\n",
        "# Example usage\n",
        "account = BankAccount(\"Alice\", 1000)\n",
        "account.deposit(500)\n"
      ]
    },
    {
      "cell_type": "markdown",
      "metadata": {
        "id": "SDdtQHImX54W"
      },
      "source": [
        "#### Exercise 3\n",
        "Create a class Person with a private attribute `_salary` and methods to get and set the value of `_salary`."
      ]
    },
    {
      "cell_type": "code",
      "execution_count": null,
      "metadata": {
        "id": "nSP-cb2Jg_3Z"
      },
      "outputs": [],
      "source": [
        "class Person:\n",
        "    def __init__(self, name, salary):\n",
        "        self.name = name\n",
        "        self._salary = salary\n",
        "\n",
        "    def set_salary(self, salary):\n",
        "        self._salary = salary\n",
        "\n",
        "    def get_salary(self):\n",
        "        return self._salary\n",
        "\n",
        "p = Person(\"John\", 5000)\n",
        "print(p.get_salary())  # Access private attribute via getter\n",
        "p.set_salary(7000)\n",
        "print(p.get_salary())"
      ]
    },
    {
      "cell_type": "markdown",
      "metadata": {
        "id": "2zQacnw-K_YE"
      },
      "source": [
        "##  Abstraction\n",
        "Abstraction hides implementation details and shows only the essential features.\n",
        "Abstract classes are implemented via the abc module. The **abc** stands for **abstract base class**. The first step towards abstaction is defining the abstract base class. Let us define the an abstact class called `Shape`:"
      ]
    },
    {
      "cell_type": "code",
      "execution_count": null,
      "metadata": {
        "id": "-HwQsHb36muw"
      },
      "outputs": [],
      "source": [
        "from abc import ABC, abstractmethod\n",
        "class Shape(ABC):\n",
        "    @abstractmethod\n",
        "    def area(self):\n",
        "        pass"
      ]
    },
    {
      "cell_type": "markdown",
      "metadata": {
        "id": "t6YHfSkd7W94"
      },
      "source": [
        "Now we can define the concrete methods in a child class:"
      ]
    },
    {
      "cell_type": "code",
      "execution_count": null,
      "metadata": {
        "id": "7WhXCg0n7eg-"
      },
      "outputs": [],
      "source": [
        "class Rectangle(Shape):\n",
        "    def __init__(self, width, height):\n",
        "        self.width = width\n",
        "        self.height = height\n",
        "\n",
        "    def area(self):\n",
        "        return self.width * self.height\n",
        "\n",
        "# Abstract class example\n",
        "rect = Rectangle(5, 10)\n",
        "print(f\"Area of rectangle: {rect.area()}\")"
      ]
    },
    {
      "cell_type": "markdown",
      "metadata": {
        "id": "ksN_g0hITTOw"
      },
      "source": [
        "### Exercise 3\n",
        "Follow the above example and create a child class called `Circle` and define the `area` such that it calculates the area of a rectangle."
      ]
    },
    {
      "cell_type": "code",
      "execution_count": null,
      "metadata": {
        "id": "g0cC1uZvPtdU"
      },
      "outputs": [],
      "source": [
        "# Your code"
      ]
    },
    {
      "cell_type": "markdown",
      "metadata": {
        "id": "ReYmAAaiOHcX"
      },
      "source": [
        "#### Exercise 4\n",
        "Implement a class that implements the following blue print\n",
        "\n",
        "<img src=\"https://drive.google.com/uc?export=view&id=1gSGcb8OsiUCRoBC7Rvc9LtQmriWNc9b-\" alt=\"blueprint\" width=\"500\">\n"
      ]
    },
    {
      "cell_type": "code",
      "execution_count": null,
      "metadata": {
        "id": "zQkRrBBSSGKn"
      },
      "outputs": [],
      "source": [
        "class Apartment:\n",
        "    def __init__(self, x, y):\n",
        "        \"\"\"\n",
        "        Initialize the apartment with the given dimensions of the land.\n",
        "        :param x: Length of the land.\n",
        "        :param y: Width of the land.\n",
        "        \"\"\"\n",
        "        self.x = x\n",
        "        self.y = y\n",
        "        self.kitchen_area = # Your code\n",
        "        self.toilet_area = # Your code\n",
        "        self.room_area = # Your code\n",
        "        self.corridor_area = # Your code\n",
        "\n",
        "    def get_kitchen_area(self):\n",
        "        \"\"\"\n",
        "        Calculate the surface area of kitchen.\n",
        "        \"\"\"\n",
        "\n",
        "    def get_bathroom_area(self):\n",
        "        \"\"\"\n",
        "        Calculate the surface area of bathroom.\n",
        "        \"\"\"\n",
        "\n",
        "    def get_corridor_area(self):\n",
        "        \"\"\"\n",
        "        Calculate the surface area of corridor.\n",
        "        \"\"\"\n",
        "\n",
        "    def get_room_area(self):\n",
        "        \"\"\"\n",
        "        Calculate the surface area of room.\n",
        "        \"\"\"\n",
        "\n",
        "    def display_map(self):\n",
        "        \"\"\"\n",
        "        Display the surface area of each area in the apartment.\n",
        "        \"\"\""
      ]
    },
    {
      "cell_type": "markdown",
      "metadata": {
        "id": "ZMud0wxiahZI"
      },
      "source": [
        "### Advanced Example\n",
        "#### Sugarscape Model: Problem Description\n",
        "\n",
        "The **[Sugarscape](https://en.wikipedia.org/wiki/Sugarscape)** model is an **agent-based simulation** introduced by **Epstein and Axtell** in *Growing Artificial Societies* (1996). It simulates a **grid world** where **agents** move to **collect sugar**, demonstrating how **simple individual behaviors** can lead to **complex social phenomena**.  \n",
        "\n",
        "##### Key Concepts:\n",
        "- **Environment:** A grid with **two sugar mountains** providing rich resources.  \n",
        "- **Agents:** Have **vision**, **metabolism**, and **sugar wealth**. They move towards **high-sugar cells** and **consume sugar** to survive.  \n",
        "- **Objective:** Study **wealth distribution**, **resource allocation**, and **emergent patterns** like **inequality** using metrics like the **Gini coefficient**.  \n",
        "\n",
        "This model provides insights into how **local actions** can produce **global social outcomes**, making it a powerful tool for exploring **economics**, **sociology**, and **complex systems**.  \n"
      ]
    },
    {
      "cell_type": "code",
      "execution_count": null,
      "metadata": {
        "id": "L1kYBV4Aakvh"
      },
      "outputs": [],
      "source": [
        "# Agent class\n",
        "class Agent:\n",
        "    \"\"\"\n",
        "    Represents an agent in the Sugarscape model.\n",
        "\n",
        "    Attributes:\n",
        "        x (int): The x-coordinate of the agent's position.\n",
        "        y (int): The y-coordinate of the agent's position.\n",
        "        sugar (int): The current sugar wealth of the agent.\n",
        "        vision (int): How far the agent can see to find sugar.\n",
        "        metabolism (int): The amount of sugar consumed per step.\n",
        "    \"\"\"\n",
        "\n",
        "    MAX_SUGAR_INTAKE = 5  # Maximum sugar an agent can consume per step\n",
        "\n",
        "    def __init__(self, x, y, sugar, vision, metabolism):\n",
        "        \"\"\"\n",
        "        Initializes an agent with given properties.\n",
        "\n",
        "        Args:\n",
        "            x (int): Initial x-coordinate.\n",
        "            y (int): Initial y-coordinate.\n",
        "            sugar (int): Initial amount of sugar the agent possesses.\n",
        "            vision (int): How far the agent can see to find sugar.\n",
        "            metabolism (int): Sugar consumed by the agent per step.\n",
        "        \"\"\"\n",
        "        self.x = x\n",
        "        self.y = y\n",
        "        self.sugar = sugar\n",
        "        self.vision = vision\n",
        "        self.metabolism = metabolism\n",
        "\n",
        "    def move(self, env):\n",
        "        \"\"\"\n",
        "        Moves the agent to the neighboring cell with the most sugar.\n",
        "\n",
        "        The agent evaluates all cells within its vision range and moves\n",
        "        towards the cell with the highest sugar content. Consumes sugar\n",
        "        at the new location and updates the sugar wealth.\n",
        "\n",
        "        Args:\n",
        "            env (Environment): The environment containing the sugar grid.\n",
        "\n",
        "        Returns:\n",
        "            bool: True if the agent is still alive (sugar >= 0), False otherwise.\n",
        "        \"\"\"\n",
        "        # Initialize the best position as the current position\n",
        "        best_x, best_y = self.x, self.y\n",
        "        best_sugar = env.sugar_grid[self.x, self.y]\n",
        "\n",
        "        # Look within the vision range for the best sugar cell\n",
        "        for dx in range(-self.vision, self.vision + 1):\n",
        "            for dy in range(-self.vision, self.vision + 1):\n",
        "                # Handle grid wrapping with modulo operator\n",
        "                nx, ny = (self.x + dx) % GRID_SIZE, (self.y + dy) % GRID_SIZE\n",
        "\n",
        "                # Update the best position if a higher sugar cell is found\n",
        "                if env.sugar_grid[nx, ny] > best_sugar:\n",
        "                    best_sugar = env.sugar_grid[nx, ny]\n",
        "                    best_x, best_y = nx, ny\n",
        "\n",
        "        # Move one step towards the best cell (Manhattan distance move)\n",
        "        if best_x > self.x:\n",
        "            self.x += 1\n",
        "        elif best_x < self.x:\n",
        "            self.x -= 1\n",
        "        if best_y > self.y:\n",
        "            self.y += 1\n",
        "        elif best_y < self.y:\n",
        "            self.y -= 1\n",
        "\n",
        "        # Consume sugar at the new location with a cap on intake\n",
        "        self.sugar += min(env.sugar_grid[self.x, self.y], self.MAX_SUGAR_INTAKE)\n",
        "\n",
        "        # Update the sugar grid to reflect consumption\n",
        "        env.sugar_grid[self.x, self.y] = max(0, env.sugar_grid[self.x, self.y] - self.MAX_SUGAR_INTAKE)\n",
        "\n",
        "        # Deduct metabolism from sugar wealth\n",
        "        self.sugar -= self.metabolism\n",
        "\n",
        "        # Return True if the agent is still alive\n",
        "        return self.sugar >= 0\n",
        "\n",
        "    def reproduce(self):\n",
        "        \"\"\"\n",
        "        Creates offspring agents near the parent's location.\n",
        "\n",
        "        The agent produces 2 children with inherited and slightly\n",
        "        mutated properties. The parent shares its sugar wealth with\n",
        "        the children.\n",
        "\n",
        "        Returns:\n",
        "            list of Agent: The list of child agents created.\n",
        "        \"\"\"\n",
        "        children = []\n",
        "\n",
        "        # Generate a child agent\n",
        "        # Determine child's position near the parent with wrapping\n",
        "        child_x = (self.x + random.randint(-1, 1)) % GRID_SIZE\n",
        "        child_y = (self.y + random.randint(-1, 1)) % GRID_SIZE\n",
        "\n",
        "        # Inherit vision and metabolism with slight random variation\n",
        "        child_vision = max(1, self.vision + random.randint(-1, 1))\n",
        "        child_metabolism = max(1, self.metabolism + random.randint(-1, 1))\n",
        "\n",
        "        # The child has the same sugar as the parent\n",
        "        child_sugar = self.sugar\n",
        "\n",
        "        # Create the child agent and add it to the list\n",
        "        child = Agent(child_x, child_y, child_sugar, child_vision, child_metabolism)\n",
        "\n",
        "        # Parent loses a third of its sugar after reproduction\n",
        "        self.sugar = 0.7*self.sugar\n",
        "\n",
        "        return child\n"
      ]
    },
    {
      "cell_type": "code",
      "execution_count": null,
      "metadata": {
        "id": "busFZupvbb3Q"
      },
      "outputs": [],
      "source": [
        "# Environment class\n",
        "class Environment:\n",
        "    \"\"\"\n",
        "    Represents the Sugarscape environment, which is a grid-based world\n",
        "    containing sugar resources. The grid has two sugar mountains\n",
        "    with high sugar availability and lower sugar levels elsewhere.\n",
        "\n",
        "    Attributes:\n",
        "        sugar_grid (np.ndarray): Current sugar levels on the grid.\n",
        "        max_sugar_grid (np.ndarray): Maximum sugar capacity for each cell.\n",
        "        mountain_1_center (tuple): Coordinates of the first sugar mountain center.\n",
        "        mountain_2_center (tuple): Coordinates of the second sugar mountain center.\n",
        "    \"\"\"\n",
        "\n",
        "    MAX_SUGAR = 10  # Maximum sugar capacity of a grid cell\n",
        "\n",
        "    def __init__(self, mountain_1_center=(15, 15), mountain_2_center=(35, 35)):\n",
        "        \"\"\"\n",
        "        Initializes the environment with two sugar mountains and prepares the sugar grid.\n",
        "\n",
        "        Args:\n",
        "            mountain_1_center (tuple): Center of the first sugar mountain (default: (15, 15)).\n",
        "            mountain_2_center (tuple): Center of the second sugar mountain (default: (35, 35)).\n",
        "        \"\"\"\n",
        "        # Initialize sugar grids\n",
        "        self.sugar_grid = np.zeros((GRID_SIZE, GRID_SIZE))  # Current sugar levels\n",
        "        self.max_sugar_grid = np.zeros((GRID_SIZE, GRID_SIZE))  # Maximum sugar capacity\n",
        "\n",
        "        # Set sugar mountain centers\n",
        "        self.mountain_1_center = mountain_1_center\n",
        "        self.mountain_2_center = mountain_2_center\n",
        "\n",
        "        # Populate the grid with sugar levels based on mountain proximity\n",
        "        self.initialize_sugar_mountains()\n",
        "\n",
        "    def initialize_sugar_mountains(self):\n",
        "        \"\"\"\n",
        "        Initializes the sugar grid with two sugar mountains and random low sugar elsewhere.\n",
        "\n",
        "        The maximum sugar in each cell depends on the distance to the mountain centers,\n",
        "        creating two high-sugar regions with gradual decline outward.\n",
        "        \"\"\"\n",
        "        for x in range(GRID_SIZE):\n",
        "            for y in range(GRID_SIZE):\n",
        "                # Calculate the distance to the two mountain centers\n",
        "                dist1 = np.sqrt((x - self.mountain_1_center[0])**2 + (y - self.mountain_1_center[1])**2)\n",
        "                dist2 = np.sqrt((x - self.mountain_2_center[0])**2 + (y - self.mountain_2_center[1])**2)\n",
        "\n",
        "                # Determine the maximum sugar based on proximity to sugar mountains\n",
        "                max_sugar = max(\n",
        "                    self.MAX_SUGAR - dist1,\n",
        "                    self.MAX_SUGAR - dist2,\n",
        "                    random.randint(0, 2)  # Low sugar (0 to 2) elsewhere\n",
        "                )\n",
        "\n",
        "                # Ensure non-negative sugar capacity and initialize current sugar\n",
        "                self.max_sugar_grid[x, y] = max(0, max_sugar)\n",
        "                self.sugar_grid[x, y] = self.max_sugar_grid[x, y]\n",
        "\n",
        "    def regrow_sugar(self):\n",
        "        \"\"\"\n",
        "        Regrows sugar on the grid each simulation step.\n",
        "\n",
        "        Sugar in the mountain regions regrows slowly, while sugar\n",
        "        elsewhere regrows at an even slower rate. Sugar growth is\n",
        "        capped by the maximum sugar capacity of each cell.\n",
        "        \"\"\"\n",
        "        mountain_radius = 10  # Defines the effective range of the sugar mountains\n",
        "\n",
        "        for x in range(GRID_SIZE):\n",
        "            for y in range(GRID_SIZE):\n",
        "                # Calculate distances to the mountain centers\n",
        "                dist1 = np.sqrt((x - self.mountain_1_center[0])**2 + (y - self.mountain_1_center[1])**2)\n",
        "                dist2 = np.sqrt((x - self.mountain_2_center[0])**2 + (y - self.mountain_2_center[1])**2)\n",
        "\n",
        "                if dist1 <= mountain_radius or dist2 <= mountain_radius:\n",
        "                    # Slow regrowth in mountain regions (0.1 units per step)\n",
        "                    self.sugar_grid[x, y] = min(\n",
        "                        self.sugar_grid[x, y] + 0.3,\n",
        "                        self.max_sugar_grid[x, y]\n",
        "                    )\n",
        "                else:\n",
        "                    # Very slow regrowth in other areas (0.02 units per step)\n",
        "                    self.sugar_grid[x, y] = min(\n",
        "                        self.sugar_grid[x, y] + 0.02,\n",
        "                        self.max_sugar_grid[x, y]\n",
        "                    )\n"
      ]
    },
    {
      "cell_type": "code",
      "execution_count": null,
      "metadata": {
        "id": "ou3aFMP1f70a"
      },
      "outputs": [],
      "source": [
        "# Simulation parameters\n",
        "GRID_SIZE = 50  # Size of the grid (GRID_SIZE x GRID_SIZE)\n",
        "NUM_AGENTS = 200  # Initial number of agents\n",
        "VISION_RANGE = 5  # Maximum vision range of agents\n",
        "METABOLISM_RANGE = (1, 4)  # Range of metabolism rates for agents\n",
        "MAX_SUGAR_RANGE = (5, 25)  # Initial sugar range for agents\n",
        "STEPS = 300  # Number of simulation steps\n",
        "REPRODUCTION_INTERVAL = 50  # Interval for agent reproduction\n",
        "\n",
        "# Initialize the environment and the agents\n",
        "env = Environment()  # Create the grid-based environment\n",
        "\n",
        "# Generate a list of agents with random attributes\n",
        "agents = [\n",
        "    Agent(\n",
        "        random.randint(0, GRID_SIZE - 1),  # Random x position\n",
        "        random.randint(0, GRID_SIZE - 1),  # Random y position\n",
        "        random.randint(*MAX_SUGAR_RANGE),  # Initial sugar wealth\n",
        "        random.randint(1, VISION_RANGE),   # Vision range (1 to VISION_RANGE)\n",
        "        random.randint(*METABOLISM_RANGE)  # Metabolism rate (1 to 4)\n",
        "    ) for _ in range(NUM_AGENTS)\n",
        "]\n",
        "\n",
        "# Simulation loop\n",
        "for step in range(STEPS):\n",
        "    \"\"\"\n",
        "    Main simulation loop that runs for a defined number of steps (STEPS).\n",
        "\n",
        "    At each step:\n",
        "        1. Agents move, consume sugar, and potentially die if sugar < 0.\n",
        "        2. The environment regenerates sugar.\n",
        "        3. Agents reproduce at defined intervals.\n",
        "        4. Visualization of the current state of the grid and agents.\n",
        "    \"\"\"\n",
        "\n",
        "    # Agents move and consume sugar. Remove agents with negative sugar.\n",
        "    agents = [agent for agent in agents if agent.move(env)]\n",
        "\n",
        "    # Regrow sugar in the environment\n",
        "    env.regrow_sugar()\n",
        "\n",
        "    # Handle agent reproduction at specific intervals\n",
        "    if step % REPRODUCTION_INTERVAL == 0 and step > 0:\n",
        "        new_agents = []\n",
        "        for agent in agents:\n",
        "            new_agents.extend(agent.reproduce())  # Add offspring to the list\n",
        "        agents.extend(new_agents)  # Add new agents to the simulation\n",
        "\n",
        "    # Visualization of the simulation state\n",
        "    clear_output(wait=True)  # Clear the previous plot in the notebook\n",
        "    plt.figure(figsize=(8, 8))\n",
        "\n",
        "    # Display the sugar grid\n",
        "    plt.imshow(env.sugar_grid, cmap='YlOrBr', vmin=0, vmax=env.MAX_SUGAR)\n",
        "\n",
        "    # Plot agents on top of the sugar grid\n",
        "    for agent in agents:\n",
        "        plt.scatter(agent.y, agent.x, color='blue', s=10)\n",
        "\n",
        "    # Add a title showing the current step and number of agents\n",
        "    plt.title(f\"Step {step + 1}, Agents: {len(agents)}\")\n",
        "\n",
        "    # Display the updated plot\n",
        "    plt.show()\n",
        "\n",
        "    # Pause to control the visualization speed\n",
        "    plt.pause(0.1)\n"
      ]
    },
    {
      "cell_type": "markdown",
      "metadata": {},
      "source": [
        "#### Interview Question\n",
        "Build a simple model that simulates waiting queue at emergency department.\n",
        "\n",
        "##### Scenario Description\n",
        "Patients arrive at a random rate of 10 patients per hour and are classified in three categories depending on their severity; red (very urgent), yellow (moderately urgent), and green (not very urgent). The distribution is the following 10% red, 25% yellow and 65% green. The time to treat a patient depends on its severity but on average a patient needs 1 hour of care. For example, you could use a gamma distribution (k=4, theta=0.25) to model the treatment time (capped to 4 hours). The next patient to be treated is the most urgent and, if multiple patients with the same level of urgency exist, the one that has been waiting the longest.\n",
        "\n",
        "##### Objectives\n",
        "The objective of the test is to build a simple code (using **an objected oriented framework and a modular design**) which is able to simulate the waiting time along a day (24 hours).\n",
        "The code should be able to simulate the evolution of the waiting time along the day depending on how many doctors are available. The code should also contain commands to plot the average waiting time after 24 hours by doctors.\n",
        "Furthermore, write the code to calculate how many doctors are needed to ensure that in 99% of the cases no patient waits more than 3 hours and provide the answer."
      ]
    },
    {
      "cell_type": "code",
      "execution_count": null,
      "metadata": {},
      "outputs": [],
      "source": [
        "# Your code"
      ]
    },
    {
      "cell_type": "markdown",
      "metadata": {
        "id": "nrBw5WXAAcC-"
      },
      "source": [
        "**Congratulations! You have finished the Notebook! Great Job!**\n",
        "🤗🙌👍👏💪\n",
        "<!--\n",
        "# Copyright © 2024 Meysam Goodarzi\n",
        "This notebook is licensed under CC BY-NC 4.0 with the following amandments:\n",
        "- Individuals may use, share, and adapt this material for non-commercial purposes with attribution.\n",
        "- Institutions/Companies must obtain written consent to use this material, except for nonprofits.\n",
        "- Commercial use is prohibited without permission.  \n",
        "Contact: analytica@meysam-goodarzi.com.\n",
        "-->"
      ]
    }
  ],
  "metadata": {
    "colab": {
      "provenance": []
    },
    "kernelspec": {
      "display_name": "Python 3",
      "name": "python3"
    },
    "language_info": {
      "name": "python"
    }
  },
  "nbformat": 4,
  "nbformat_minor": 0
}
